{
 "cells": [
  {
   "cell_type": "code",
   "execution_count": 1,
   "metadata": {},
   "outputs": [],
   "source": [
    "# https://stable-baselines3.readthedocs.io/en/master/guide/rl.html\n",
    "# https://spinningup.openai.com/en/latest/spinningup/rl_intro2.html#a-taxonomy-of-rl-algorithms"
   ]
  },
  {
   "cell_type": "markdown",
   "metadata": {},
   "source": [
    "# 1. Import dependencies"
   ]
  },
  {
   "cell_type": "code",
   "execution_count": 2,
   "metadata": {},
   "outputs": [
    {
     "name": "stdout",
     "output_type": "stream",
     "text": [
      "Collecting stable-baselines3[extra]\n",
      "  Using cached stable_baselines3-2.3.2-py3-none-any.whl.metadata (5.1 kB)\n",
      "Requirement already satisfied: gymnasium<0.30,>=0.28.1 in c:\\python312\\lib\\site-packages (from stable-baselines3[extra]) (0.29.1)\n",
      "Requirement already satisfied: numpy>=1.20 in c:\\python312\\lib\\site-packages (from stable-baselines3[extra]) (1.26.4)\n",
      "Collecting torch>=1.13 (from stable-baselines3[extra])\n",
      "  Using cached torch-2.3.1-cp312-cp312-win_amd64.whl.metadata (26 kB)\n",
      "Requirement already satisfied: cloudpickle in c:\\python312\\lib\\site-packages (from stable-baselines3[extra]) (1.6.0)\n",
      "Collecting pandas (from stable-baselines3[extra])\n",
      "  Using cached pandas-2.2.2-cp312-cp312-win_amd64.whl.metadata (19 kB)\n",
      "Collecting matplotlib (from stable-baselines3[extra])\n",
      "  Using cached matplotlib-3.9.0-cp312-cp312-win_amd64.whl.metadata (11 kB)\n",
      "Collecting opencv-python (from stable-baselines3[extra])\n",
      "  Using cached opencv_python-4.10.0.82-cp37-abi3-win_amd64.whl.metadata (20 kB)\n",
      "Requirement already satisfied: pygame in c:\\python312\\lib\\site-packages (from stable-baselines3[extra]) (2.5.2)\n",
      "Collecting tensorboard>=2.9.1 (from stable-baselines3[extra])\n",
      "  Using cached tensorboard-2.17.0-py3-none-any.whl.metadata (1.6 kB)\n",
      "Collecting psutil (from stable-baselines3[extra])\n",
      "  Using cached psutil-5.9.8-cp37-abi3-win_amd64.whl.metadata (22 kB)\n",
      "Requirement already satisfied: tqdm in c:\\python312\\lib\\site-packages (from stable-baselines3[extra]) (4.66.4)\n",
      "Collecting rich (from stable-baselines3[extra])\n",
      "  Using cached rich-13.7.1-py3-none-any.whl.metadata (18 kB)\n",
      "Collecting shimmy~=1.3.0 (from shimmy[atari]~=1.3.0; extra == \"extra\"->stable-baselines3[extra])\n",
      "  Using cached Shimmy-1.3.0-py3-none-any.whl.metadata (3.7 kB)\n",
      "Collecting pillow (from stable-baselines3[extra])\n",
      "  Using cached pillow-10.3.0-cp312-cp312-win_amd64.whl.metadata (9.4 kB)\n",
      "Collecting autorom~=0.6.1 (from autorom[accept-rom-license]~=0.6.1; extra == \"extra\"->stable-baselines3[extra])\n",
      "  Using cached AutoROM-0.6.1-py3-none-any.whl.metadata (2.4 kB)\n",
      "Requirement already satisfied: click in c:\\python312\\lib\\site-packages (from autorom~=0.6.1->autorom[accept-rom-license]~=0.6.1; extra == \"extra\"->stable-baselines3[extra]) (8.1.7)\n",
      "Requirement already satisfied: requests in c:\\python312\\lib\\site-packages (from autorom~=0.6.1->autorom[accept-rom-license]~=0.6.1; extra == \"extra\"->stable-baselines3[extra]) (2.32.3)\n",
      "Requirement already satisfied: AutoROM.accept-rom-license in c:\\python312\\lib\\site-packages (from autorom[accept-rom-license]~=0.6.1; extra == \"extra\"->stable-baselines3[extra]) (0.6.1)\n",
      "Requirement already satisfied: typing-extensions>=4.3.0 in c:\\python312\\lib\\site-packages (from gymnasium<0.30,>=0.28.1->stable-baselines3[extra]) (4.12.1)\n",
      "Requirement already satisfied: farama-notifications>=0.0.1 in c:\\python312\\lib\\site-packages (from gymnasium<0.30,>=0.28.1->stable-baselines3[extra]) (0.0.4)\n",
      "INFO: pip is looking at multiple versions of shimmy[atari] to determine which version is compatible with other requirements. This could take a while.\n",
      "Collecting stable-baselines3[extra]\n",
      "  Using cached stable_baselines3-2.2.1-py3-none-any.whl.metadata (5.0 kB)\n",
      "  Using cached stable_baselines3-2.1.0-py3-none-any.whl.metadata (5.2 kB)\n",
      "Collecting shimmy~=1.1.0 (from shimmy[atari]~=1.1.0; extra == \"extra\"->stable-baselines3[extra])\n",
      "  Using cached Shimmy-1.1.0-py3-none-any.whl.metadata (3.3 kB)\n",
      "Collecting stable-baselines3[extra]\n",
      "  Using cached stable_baselines3-2.0.0-py3-none-any.whl.metadata (5.4 kB)\n",
      "Collecting gymnasium==0.28.1 (from stable-baselines3[extra])\n",
      "  Using cached gymnasium-0.28.1-py3-none-any.whl.metadata (9.2 kB)\n",
      "Collecting shimmy~=0.2.1 (from shimmy[atari]~=0.2.1; extra == \"extra\"->stable-baselines3[extra])\n",
      "  Using cached Shimmy-0.2.1-py3-none-any.whl.metadata (2.3 kB)\n",
      "Collecting jax-jumpy>=1.0.0 (from gymnasium==0.28.1->stable-baselines3[extra])\n",
      "  Using cached jax_jumpy-1.0.0-py3-none-any.whl.metadata (15 kB)\n",
      "Collecting stable-baselines3[extra]\n",
      "  Using cached stable_baselines3-1.8.0-py3-none-any.whl.metadata (5.0 kB)\n",
      "Collecting gym==0.21 (from stable-baselines3[extra])\n",
      "  Using cached gym-0.21.0.tar.gz (1.5 MB)\n",
      "  Installing build dependencies: started\n",
      "  Installing build dependencies: finished with status 'done'\n",
      "  Getting requirements to build wheel: started\n",
      "  Getting requirements to build wheel: finished with status 'error'\n"
     ]
    },
    {
     "name": "stderr",
     "output_type": "stream",
     "text": [
      "  error: subprocess-exited-with-error\n",
      "  \n",
      "  Getting requirements to build wheel did not run successfully.\n",
      "  exit code: 1\n",
      "  \n",
      "  [1 lines of output]\n",
      "  error in gym setup command: 'extras_require' must be a dictionary whose values are strings or lists of strings containing valid project/version requirement specifiers.\n",
      "  [end of output]\n",
      "  \n",
      "  note: This error originates from a subprocess, and is likely not a problem with pip.\n",
      "error: subprocess-exited-with-error\n",
      "\n",
      "Getting requirements to build wheel did not run successfully.\n",
      "exit code: 1\n",
      "\n",
      "See above for output.\n",
      "\n",
      "note: This error originates from a subprocess, and is likely not a problem with pip.\n"
     ]
    },
    {
     "name": "stdout",
     "output_type": "stream",
     "text": [
      "Requirement already satisfied: gym==0.17.3 in c:\\python312\\lib\\site-packages (0.17.3)\n",
      "Requirement already satisfied: scipy in c:\\python312\\lib\\site-packages (from gym==0.17.3) (1.13.1)\n",
      "Requirement already satisfied: numpy>=1.10.4 in c:\\python312\\lib\\site-packages (from gym==0.17.3) (1.26.4)\n",
      "Requirement already satisfied: pyglet<=1.5.0,>=1.4.0 in c:\\python312\\lib\\site-packages (from gym==0.17.3) (1.5.0)\n",
      "Requirement already satisfied: cloudpickle<1.7.0,>=1.2.0 in c:\\python312\\lib\\site-packages (from gym==0.17.3) (1.6.0)\n",
      "Requirement already satisfied: future in c:\\python312\\lib\\site-packages (from pyglet<=1.5.0,>=1.4.0->gym==0.17.3) (1.0.0)\n"
     ]
    }
   ],
   "source": [
    "!pip install stable-baselines3[extra]\n",
    "!pip install gym==0.17.3"
   ]
  },
  {
   "cell_type": "code",
   "execution_count": 3,
   "metadata": {},
   "outputs": [],
   "source": [
    "import gym\n",
    "import os\n",
    "from stable_baselines3 import PPO\n",
    "from stable_baselines3.common.vec_env import DummyVecEnv\n",
    "from stable_baselines3.common.evaluation import evaluate_policy"
   ]
  },
  {
   "cell_type": "markdown",
   "metadata": {},
   "source": [
    "# 2. Load Environment"
   ]
  },
  {
   "cell_type": "code",
   "execution_count": 4,
   "metadata": {},
   "outputs": [],
   "source": [
    "environment_name = \"CartPole-v1\""
   ]
  },
  {
   "cell_type": "code",
   "execution_count": 5,
   "metadata": {},
   "outputs": [],
   "source": [
    "env = gym.make(\"CartPole-v1\")"
   ]
  },
  {
   "cell_type": "code",
   "execution_count": 6,
   "metadata": {},
   "outputs": [
    {
     "name": "stdout",
     "output_type": "stream",
     "text": [
      "Episode:1 Score:15.0\n",
      "Episode:2 Score:11.0\n",
      "Episode:3 Score:18.0\n",
      "Episode:4 Score:13.0\n",
      "Episode:5 Score:54.0\n",
      "Episode:6 Score:12.0\n",
      "Episode:7 Score:15.0\n",
      "Episode:8 Score:13.0\n",
      "Episode:9 Score:14.0\n",
      "Episode:10 Score:43.0\n",
      "Episode:11 Score:17.0\n",
      "Episode:12 Score:27.0\n",
      "Episode:13 Score:10.0\n",
      "Episode:14 Score:35.0\n",
      "Episode:15 Score:13.0\n",
      "Episode:16 Score:20.0\n",
      "Episode:17 Score:15.0\n",
      "Episode:18 Score:14.0\n",
      "Episode:19 Score:43.0\n",
      "Episode:20 Score:24.0\n",
      "Episode:21 Score:25.0\n",
      "Episode:22 Score:8.0\n",
      "Episode:23 Score:80.0\n",
      "Episode:24 Score:20.0\n",
      "Episode:25 Score:25.0\n",
      "Episode:26 Score:45.0\n",
      "Episode:27 Score:20.0\n",
      "Episode:28 Score:25.0\n",
      "Episode:29 Score:12.0\n",
      "Episode:30 Score:30.0\n",
      "Episode:31 Score:10.0\n",
      "Episode:32 Score:11.0\n",
      "Episode:33 Score:22.0\n",
      "Episode:34 Score:14.0\n",
      "Episode:35 Score:34.0\n",
      "Episode:36 Score:18.0\n",
      "Episode:37 Score:12.0\n",
      "Episode:38 Score:29.0\n",
      "Episode:39 Score:33.0\n",
      "Episode:40 Score:31.0\n",
      "Episode:41 Score:52.0\n",
      "Episode:42 Score:33.0\n",
      "Episode:43 Score:31.0\n",
      "Episode:44 Score:23.0\n",
      "Episode:45 Score:24.0\n",
      "Episode:46 Score:17.0\n",
      "Episode:47 Score:23.0\n",
      "Episode:48 Score:42.0\n",
      "Episode:49 Score:15.0\n",
      "Episode:50 Score:19.0\n",
      "Episode:51 Score:12.0\n",
      "Episode:52 Score:22.0\n",
      "Episode:53 Score:32.0\n",
      "Episode:54 Score:35.0\n",
      "Episode:55 Score:17.0\n",
      "Episode:56 Score:14.0\n",
      "Episode:57 Score:16.0\n",
      "Episode:58 Score:10.0\n",
      "Episode:59 Score:14.0\n",
      "Episode:60 Score:25.0\n",
      "Episode:61 Score:14.0\n",
      "Episode:62 Score:10.0\n",
      "Episode:63 Score:17.0\n",
      "Episode:64 Score:27.0\n",
      "Episode:65 Score:24.0\n",
      "Episode:66 Score:17.0\n",
      "Episode:67 Score:14.0\n",
      "Episode:68 Score:15.0\n",
      "Episode:69 Score:15.0\n",
      "Episode:70 Score:35.0\n",
      "Episode:71 Score:23.0\n",
      "Episode:72 Score:35.0\n",
      "Episode:73 Score:11.0\n",
      "Episode:74 Score:9.0\n",
      "Episode:75 Score:20.0\n",
      "Episode:76 Score:15.0\n",
      "Episode:77 Score:43.0\n",
      "Episode:78 Score:34.0\n",
      "Episode:79 Score:10.0\n",
      "Episode:80 Score:30.0\n",
      "Episode:81 Score:17.0\n",
      "Episode:82 Score:13.0\n",
      "Episode:83 Score:20.0\n",
      "Episode:84 Score:13.0\n",
      "Episode:85 Score:13.0\n",
      "Episode:86 Score:20.0\n",
      "Episode:87 Score:15.0\n",
      "Episode:88 Score:17.0\n",
      "Episode:89 Score:16.0\n",
      "Episode:90 Score:11.0\n",
      "Episode:91 Score:25.0\n",
      "Episode:92 Score:21.0\n",
      "Episode:93 Score:15.0\n",
      "Episode:94 Score:10.0\n",
      "Episode:95 Score:13.0\n",
      "Episode:96 Score:22.0\n",
      "Episode:97 Score:27.0\n",
      "Episode:98 Score:15.0\n",
      "Episode:99 Score:12.0\n",
      "Episode:100 Score:11.0\n"
     ]
    }
   ],
   "source": [
    "episodes = 100\n",
    "for episode in range(1, episodes+1):\n",
    "    state = env.reset()\n",
    "    done = False\n",
    "    score = 0 \n",
    "    \n",
    "    while not done:\n",
    "        env.render()\n",
    "        action = env.action_space.sample()\n",
    "        n_state, reward, done, info = env.step(action)\n",
    "        score+=reward\n",
    "    print('Episode:{} Score:{}'.format(episode, score))"
   ]
  },
  {
   "cell_type": "markdown",
   "metadata": {},
   "source": [
    "# Understanding The Environment"
   ]
  },
  {
   "cell_type": "code",
   "execution_count": 7,
   "metadata": {},
   "outputs": [
    {
     "data": {
      "text/plain": [
       "0"
      ]
     },
     "execution_count": 7,
     "metadata": {},
     "output_type": "execute_result"
    }
   ],
   "source": [
    "env.close()\n",
    "# 0-push cart to left, 1-push cart to the right\n",
    "env.action_space.sample()"
   ]
  },
  {
   "cell_type": "code",
   "execution_count": 8,
   "metadata": {},
   "outputs": [
    {
     "data": {
      "text/plain": [
       "array([-2.7168081e+00, -8.9080313e+37, -2.3088424e-01,  5.7150324e+37],\n",
       "      dtype=float32)"
      ]
     },
     "execution_count": 8,
     "metadata": {},
     "output_type": "execute_result"
    }
   ],
   "source": [
    "# [cart position, cart velocity, pole angle, pole angular velocity]\n",
    "env.observation_space.sample()"
   ]
  },
  {
   "cell_type": "markdown",
   "metadata": {},
   "source": [
    "# 3. Train an RL Model"
   ]
  },
  {
   "cell_type": "code",
   "execution_count": 9,
   "metadata": {},
   "outputs": [
    {
     "name": "stdout",
     "output_type": "stream",
     "text": [
      "Using cpu device\n"
     ]
    },
    {
     "name": "stderr",
     "output_type": "stream",
     "text": [
      "C:\\Users\\ommin\\AppData\\Local\\Programs\\Python\\Python311\\Lib\\site-packages\\stable_baselines3\\common\\vec_env\\patch_gym.py:49: UserWarning: You provided an OpenAI Gym environment. We strongly recommend transitioning to Gymnasium environments. Stable-Baselines3 is automatically wrapping your environments in a compatibility layer, which could potentially cause issues.\n",
      "  warnings.warn(\n"
     ]
    }
   ],
   "source": [
    "env = gym.make(environment_name)\n",
    "env = DummyVecEnv([lambda: env])\n",
    "model = PPO('MlpPolicy', env, verbose = 1) #,tensorboard_log=log_path#*)"
   ]
  },
  {
   "cell_type": "code",
   "execution_count": 10,
   "metadata": {
    "scrolled": true
   },
   "outputs": [
    {
     "name": "stdout",
     "output_type": "stream",
     "text": [
      "-----------------------------\n",
      "| time/              |      |\n",
      "|    fps             | 1824 |\n",
      "|    iterations      | 1    |\n",
      "|    time_elapsed    | 1    |\n",
      "|    total_timesteps | 2048 |\n",
      "-----------------------------\n",
      "------------------------------------------\n",
      "| time/                   |              |\n",
      "|    fps                  | 1162         |\n",
      "|    iterations           | 2            |\n",
      "|    time_elapsed         | 3            |\n",
      "|    total_timesteps      | 4096         |\n",
      "| train/                  |              |\n",
      "|    approx_kl            | 0.0101446435 |\n",
      "|    clip_fraction        | 0.11         |\n",
      "|    clip_range           | 0.2          |\n",
      "|    entropy_loss         | -0.686       |\n",
      "|    explained_variance   | -0.0118      |\n",
      "|    learning_rate        | 0.0003       |\n",
      "|    loss                 | 8.14         |\n",
      "|    n_updates            | 10           |\n",
      "|    policy_gradient_loss | -0.0174      |\n",
      "|    value_loss           | 49.1         |\n",
      "------------------------------------------\n",
      "-----------------------------------------\n",
      "| time/                   |             |\n",
      "|    fps                  | 1027        |\n",
      "|    iterations           | 3           |\n",
      "|    time_elapsed         | 5           |\n",
      "|    total_timesteps      | 6144        |\n",
      "| train/                  |             |\n",
      "|    approx_kl            | 0.011191463 |\n",
      "|    clip_fraction        | 0.0812      |\n",
      "|    clip_range           | 0.2         |\n",
      "|    entropy_loss         | -0.667      |\n",
      "|    explained_variance   | 0.0931      |\n",
      "|    learning_rate        | 0.0003      |\n",
      "|    loss                 | 12.2        |\n",
      "|    n_updates            | 20          |\n",
      "|    policy_gradient_loss | -0.0183     |\n",
      "|    value_loss           | 31.5        |\n",
      "-----------------------------------------\n",
      "-----------------------------------------\n",
      "| time/                   |             |\n",
      "|    fps                  | 990         |\n",
      "|    iterations           | 4           |\n",
      "|    time_elapsed         | 8           |\n",
      "|    total_timesteps      | 8192        |\n",
      "| train/                  |             |\n",
      "|    approx_kl            | 0.008769056 |\n",
      "|    clip_fraction        | 0.0929      |\n",
      "|    clip_range           | 0.2         |\n",
      "|    entropy_loss         | -0.626      |\n",
      "|    explained_variance   | 0.267       |\n",
      "|    learning_rate        | 0.0003      |\n",
      "|    loss                 | 17.8        |\n",
      "|    n_updates            | 30          |\n",
      "|    policy_gradient_loss | -0.0223     |\n",
      "|    value_loss           | 46.1        |\n",
      "-----------------------------------------\n",
      "-----------------------------------------\n",
      "| time/                   |             |\n",
      "|    fps                  | 967         |\n",
      "|    iterations           | 5           |\n",
      "|    time_elapsed         | 10          |\n",
      "|    total_timesteps      | 10240       |\n",
      "| train/                  |             |\n",
      "|    approx_kl            | 0.007673338 |\n",
      "|    clip_fraction        | 0.0688      |\n",
      "|    clip_range           | 0.2         |\n",
      "|    entropy_loss         | -0.602      |\n",
      "|    explained_variance   | 0.26        |\n",
      "|    learning_rate        | 0.0003      |\n",
      "|    loss                 | 19.1        |\n",
      "|    n_updates            | 40          |\n",
      "|    policy_gradient_loss | -0.017      |\n",
      "|    value_loss           | 61.4        |\n",
      "-----------------------------------------\n",
      "------------------------------------------\n",
      "| time/                   |              |\n",
      "|    fps                  | 949          |\n",
      "|    iterations           | 6            |\n",
      "|    time_elapsed         | 12           |\n",
      "|    total_timesteps      | 12288        |\n",
      "| train/                  |              |\n",
      "|    approx_kl            | 0.0069368808 |\n",
      "|    clip_fraction        | 0.043        |\n",
      "|    clip_range           | 0.2          |\n",
      "|    entropy_loss         | -0.597       |\n",
      "|    explained_variance   | 0.353        |\n",
      "|    learning_rate        | 0.0003       |\n",
      "|    loss                 | 23.6         |\n",
      "|    n_updates            | 50           |\n",
      "|    policy_gradient_loss | -0.0108      |\n",
      "|    value_loss           | 63.9         |\n",
      "------------------------------------------\n",
      "-----------------------------------------\n",
      "| time/                   |             |\n",
      "|    fps                  | 922         |\n",
      "|    iterations           | 7           |\n",
      "|    time_elapsed         | 15          |\n",
      "|    total_timesteps      | 14336       |\n",
      "| train/                  |             |\n",
      "|    approx_kl            | 0.008252421 |\n",
      "|    clip_fraction        | 0.08        |\n",
      "|    clip_range           | 0.2         |\n",
      "|    entropy_loss         | -0.563      |\n",
      "|    explained_variance   | 0.475       |\n",
      "|    learning_rate        | 0.0003      |\n",
      "|    loss                 | 27.1        |\n",
      "|    n_updates            | 60          |\n",
      "|    policy_gradient_loss | -0.0131     |\n",
      "|    value_loss           | 65          |\n",
      "-----------------------------------------\n",
      "-----------------------------------------\n",
      "| time/                   |             |\n",
      "|    fps                  | 912         |\n",
      "|    iterations           | 8           |\n",
      "|    time_elapsed         | 17          |\n",
      "|    total_timesteps      | 16384       |\n",
      "| train/                  |             |\n",
      "|    approx_kl            | 0.006582547 |\n",
      "|    clip_fraction        | 0.0358      |\n",
      "|    clip_range           | 0.2         |\n",
      "|    entropy_loss         | -0.593      |\n",
      "|    explained_variance   | 0.784       |\n",
      "|    learning_rate        | 0.0003      |\n",
      "|    loss                 | 4.06        |\n",
      "|    n_updates            | 70          |\n",
      "|    policy_gradient_loss | -0.00412    |\n",
      "|    value_loss           | 29.4        |\n",
      "-----------------------------------------\n",
      "------------------------------------------\n",
      "| time/                   |              |\n",
      "|    fps                  | 890          |\n",
      "|    iterations           | 9            |\n",
      "|    time_elapsed         | 20           |\n",
      "|    total_timesteps      | 18432        |\n",
      "| train/                  |              |\n",
      "|    approx_kl            | 0.0021245454 |\n",
      "|    clip_fraction        | 0.0107       |\n",
      "|    clip_range           | 0.2          |\n",
      "|    entropy_loss         | -0.569       |\n",
      "|    explained_variance   | 0.863        |\n",
      "|    learning_rate        | 0.0003       |\n",
      "|    loss                 | 3.62         |\n",
      "|    n_updates            | 80           |\n",
      "|    policy_gradient_loss | -0.00127     |\n",
      "|    value_loss           | 22.6         |\n",
      "------------------------------------------\n",
      "------------------------------------------\n",
      "| time/                   |              |\n",
      "|    fps                  | 875          |\n",
      "|    iterations           | 10           |\n",
      "|    time_elapsed         | 23           |\n",
      "|    total_timesteps      | 20480        |\n",
      "| train/                  |              |\n",
      "|    approx_kl            | 0.0036333418 |\n",
      "|    clip_fraction        | 0.0424       |\n",
      "|    clip_range           | 0.2          |\n",
      "|    entropy_loss         | -0.574       |\n",
      "|    explained_variance   | 0.92         |\n",
      "|    learning_rate        | 0.0003       |\n",
      "|    loss                 | 3.07         |\n",
      "|    n_updates            | 90           |\n",
      "|    policy_gradient_loss | -0.00433     |\n",
      "|    value_loss           | 17.1         |\n",
      "------------------------------------------\n"
     ]
    },
    {
     "data": {
      "text/plain": [
       "<stable_baselines3.ppo.ppo.PPO at 0x1ba1f757190>"
      ]
     },
     "execution_count": 10,
     "metadata": {},
     "output_type": "execute_result"
    }
   ],
   "source": [
    "model.learn(total_timesteps=20000)"
   ]
  },
  {
   "cell_type": "markdown",
   "metadata": {},
   "source": [
    "# 4. Evaluation"
   ]
  },
  {
   "cell_type": "code",
   "execution_count": 11,
   "metadata": {},
   "outputs": [],
   "source": [
    "from stable_baselines3.common.evaluation import evaluate_policy"
   ]
  },
  {
   "cell_type": "code",
   "execution_count": 12,
   "metadata": {},
   "outputs": [
    {
     "name": "stderr",
     "output_type": "stream",
     "text": [
      "C:\\Users\\ommin\\AppData\\Local\\Programs\\Python\\Python311\\Lib\\site-packages\\stable_baselines3\\common\\evaluation.py:67: UserWarning: Evaluation environment is not wrapped with a ``Monitor`` wrapper. This may result in reporting modified episode lengths and rewards, if other wrappers happen to modify these. Consider wrapping environment first with ``Monitor`` wrapper.\n",
      "  warnings.warn(\n"
     ]
    },
    {
     "data": {
      "text/plain": [
       "(498.9, 3.3000000000000003)"
      ]
     },
     "execution_count": 12,
     "metadata": {},
     "output_type": "execute_result"
    }
   ],
   "source": [
    "evaluate_policy(model, env, n_eval_episodes=10)"
   ]
  },
  {
   "cell_type": "code",
   "execution_count": 13,
   "metadata": {},
   "outputs": [],
   "source": [
    "env.close()"
   ]
  },
  {
   "cell_type": "markdown",
   "metadata": {},
   "source": [
    "# 5. Test Model"
   ]
  },
  {
   "cell_type": "code",
   "execution_count": 14,
   "metadata": {},
   "outputs": [
    {
     "name": "stderr",
     "output_type": "stream",
     "text": [
      "C:\\Users\\ommin\\AppData\\Local\\Programs\\Python\\Python311\\Lib\\site-packages\\stable_baselines3\\common\\vec_env\\base_vec_env.py:243: UserWarning: You tried to call render() but no `render_mode` was passed to the env constructor.\n",
      "  warnings.warn(\"You tried to call render() but no `render_mode` was passed to the env constructor.\")\n"
     ]
    },
    {
     "name": "stdout",
     "output_type": "stream",
     "text": [
      "info [{'TimeLimit.truncated': True, 'terminal_observation': array([-0.30231462,  0.04459455,  0.01743343, -0.06604641])}]\n",
      "info [{'TimeLimit.truncated': False, 'terminal_observation': array([ 2.40212443,  1.10920045, -0.02820156,  0.33084074])}]\n",
      "info [{'TimeLimit.truncated': True, 'terminal_observation': array([-0.60465818, -0.75735147,  0.08827523,  0.56994673])}]\n",
      "info [{'TimeLimit.truncated': True, 'terminal_observation': array([-0.1721473 , -0.02827047, -0.00485159,  0.15398373])}]\n",
      "info [{'TimeLimit.truncated': True, 'terminal_observation': array([-1.3249251 ,  0.03572809,  0.06033362, -0.30771006])}]\n",
      "info [{'TimeLimit.truncated': True, 'terminal_observation': array([-0.84760373, -0.34088677,  0.18607358,  0.18518034])}]\n",
      "info [{'TimeLimit.truncated': False, 'terminal_observation': array([-0.64944735, -0.41749503,  0.20984945,  0.63988967])}]\n",
      "info [{'TimeLimit.truncated': True, 'terminal_observation': array([-0.38317072, -0.03452568,  0.07779159,  0.21086254])}]\n",
      "info [{'TimeLimit.truncated': True, 'terminal_observation': array([ 0.6809557 , -0.69324752,  0.01425099,  0.27650505])}]\n",
      "info [{'TimeLimit.truncated': False, 'terminal_observation': array([ 0.12831825,  0.19828674, -0.21289937, -0.25492404])}]\n",
      "info [{'TimeLimit.truncated': False, 'terminal_observation': array([ 2.43076232,  2.01410178,  0.17455067, -0.22304403])}]\n",
      "info [{'TimeLimit.truncated': False, 'terminal_observation': array([ 1.02101126,  0.03119004, -0.21106085,  0.08824754])}]\n",
      "info [{'TimeLimit.truncated': False, 'terminal_observation': array([2.34753396, 0.1269595 , 0.21751257, 0.83204734])}]\n",
      "info [{'TimeLimit.truncated': True, 'terminal_observation': array([0.68115881, 0.03454522, 0.11864169, 0.05349409])}]\n",
      "info [{'TimeLimit.truncated': True, 'terminal_observation': array([-0.65821469,  0.69265368,  0.04911201, -0.33522532])}]\n",
      "info [{'TimeLimit.truncated': False, 'terminal_observation': array([ 0.62108546,  0.72111783, -0.2109882 , -0.40924628])}]\n",
      "info [{'TimeLimit.truncated': True, 'terminal_observation': array([ 0.04713651,  1.48035201, -0.0239315 , -0.89483081])}]\n",
      "info [{'TimeLimit.truncated': False, 'terminal_observation': array([2.40478362, 1.1094894 , 0.11102323, 0.17482274])}]\n",
      "info [{'TimeLimit.truncated': True, 'terminal_observation': array([ 0.26780662, -0.39100771,  0.04624574,  0.14094865])}]\n",
      "info [{'TimeLimit.truncated': True, 'terminal_observation': array([1.06719794, 0.3197847 , 0.04758871, 0.03995878])}]\n",
      "info [{'TimeLimit.truncated': True, 'terminal_observation': array([-0.76386908, -1.15020489, -0.02580094,  0.97717398])}]\n",
      "info [{'TimeLimit.truncated': False, 'terminal_observation': array([-2.40533303, -0.94033187, -0.05535906,  0.64094816])}]\n",
      "info [{'TimeLimit.truncated': False, 'terminal_observation': array([ 0.66403785,  0.5849324 , -0.21170175,  0.03328588])}]\n",
      "info [{'TimeLimit.truncated': True, 'terminal_observation': array([ 0.93300571,  0.34244051,  0.04846136, -0.18595241])}]\n",
      "info [{'TimeLimit.truncated': True, 'terminal_observation': array([0.28207239, 0.33275856, 0.05932643, 0.10598433])}]\n",
      "info [{'TimeLimit.truncated': False, 'terminal_observation': array([ 0.45935928,  0.19597893, -0.2138745 , -0.19879328])}]\n",
      "info [{'TimeLimit.truncated': True, 'terminal_observation': array([-0.21405917,  0.04482817,  0.04303164, -0.26466552])}]\n",
      "info [{'TimeLimit.truncated': False, 'terminal_observation': array([ 2.41220828,  1.05534927,  0.05810728, -0.12927104])}]\n",
      "info [{'TimeLimit.truncated': False, 'terminal_observation': array([2.40601167, 0.39843079, 0.00339242, 0.14403065])}]\n",
      "info [{'TimeLimit.truncated': True, 'terminal_observation': array([ 0.88164807,  0.79839396,  0.01096439, -0.48712221])}]\n",
      "info [{'TimeLimit.truncated': False, 'terminal_observation': array([-0.18051595, -1.15626767,  0.21293024,  1.06162472])}]\n",
      "info [{'TimeLimit.truncated': True, 'terminal_observation': array([1.3377738 , 0.02612821, 0.00222267, 0.15129437])}]\n",
      "info [{'TimeLimit.truncated': False, 'terminal_observation': array([-1.07241223, -0.91458218,  0.21689235,  0.6700245 ])}]\n",
      "info [{'TimeLimit.truncated': False, 'terminal_observation': array([-2.40376837, -0.88556139, -0.13294811, -0.31018372])}]\n",
      "info [{'TimeLimit.truncated': True, 'terminal_observation': array([-0.49130621,  0.38371773,  0.00434217, -0.56384223])}]\n",
      "info [{'TimeLimit.truncated': True, 'terminal_observation': array([ 0.17732873,  0.36203912, -0.04894714, -0.26994691])}]\n",
      "info [{'TimeLimit.truncated': True, 'terminal_observation': array([-1.76074761, -1.08090427, -0.12835109,  0.05385063])}]\n",
      "info [{'TimeLimit.truncated': False, 'terminal_observation': array([ 2.22089785,  0.9453166 , -0.2206111 , -0.53248394])}]\n",
      "info [{'TimeLimit.truncated': False, 'terminal_observation': array([-0.2207682 ,  0.20980663, -0.21363211, -0.13626616])}]\n",
      "info [{'TimeLimit.truncated': True, 'terminal_observation': array([ 2.30594785,  1.14185807, -0.07466605, -0.21135234])}]\n",
      "info [{'TimeLimit.truncated': True, 'terminal_observation': array([ 0.83862373,  0.0163944 , -0.05701297,  0.18605577])}]\n",
      "info [{'TimeLimit.truncated': False, 'terminal_observation': array([ 2.44233636,  2.43127636,  0.10269645, -0.92168122])}]\n",
      "info [{'TimeLimit.truncated': False, 'terminal_observation': array([ 2.40747105,  0.87990373, -0.20130136,  0.18462242])}]\n",
      "info [{'TimeLimit.truncated': False, 'terminal_observation': array([ 1.15613447,  1.26478545, -0.21530781, -0.84471999])}]\n",
      "info [{'TimeLimit.truncated': True, 'terminal_observation': array([-1.99693307, -0.36680333, -0.11848301, -0.33539369])}]\n",
      "info [{'TimeLimit.truncated': False, 'terminal_observation': array([ 1.00139326,  0.56322819, -0.21212331, -0.26013312])}]\n",
      "info [{'TimeLimit.truncated': False, 'terminal_observation': array([-0.60756299, -0.5284294 ,  0.21483358,  0.5558676 ])}]\n",
      "info [{'TimeLimit.truncated': False, 'terminal_observation': array([-0.73673149, -1.16494054,  0.2136536 ,  1.13169007])}]\n",
      "info [{'TimeLimit.truncated': False, 'terminal_observation': array([ 1.19157188,  0.57120193, -0.21755105, -0.29003247])}]\n",
      "info [{'TimeLimit.truncated': False, 'terminal_observation': array([-2.40305784e+00, -9.69849942e-01,  2.16401779e-03,  2.65977547e-01])}]\n",
      "info [{'TimeLimit.truncated': True, 'terminal_observation': array([-1.72757264,  0.00211366,  0.04099154,  0.13848719])}]\n",
      "info [{'TimeLimit.truncated': False, 'terminal_observation': array([-2.32449188, -0.837962  , -0.21440629, -0.99466804])}]\n",
      "info [{'TimeLimit.truncated': False, 'terminal_observation': array([ 1.73982135,  0.36998739, -0.21446756, -0.34175492])}]\n",
      "info [{'TimeLimit.truncated': False, 'terminal_observation': array([2.40384928, 0.57858733, 0.18701194, 0.27175749])}]\n",
      "info [{'TimeLimit.truncated': False, 'terminal_observation': array([ 1.50793592,  1.30259975, -0.2322387 , -0.94065255])}]\n",
      "info [{'TimeLimit.truncated': True, 'terminal_observation': array([ 2.20727267,  1.8156497 , -0.04300228, -0.37503797])}]\n",
      "info [{'TimeLimit.truncated': False, 'terminal_observation': array([ 1.30386005, -0.88774842,  0.21048682,  0.57594691])}]\n",
      "info [{'TimeLimit.truncated': True, 'terminal_observation': array([-1.19832118, -0.36644739,  0.07290799, -0.06520262])}]\n",
      "info [{'TimeLimit.truncated': True, 'terminal_observation': array([ 0.04053785,  0.36252199, -0.06582792,  0.38240622])}]\n",
      "info [{'TimeLimit.truncated': False, 'terminal_observation': array([ 1.27209611,  0.38845658, -0.21003259, -0.40971885])}]\n",
      "info [{'TimeLimit.truncated': True, 'terminal_observation': array([ 0.83940476,  0.38037677, -0.05789739, -0.28159038])}]\n",
      "info [{'TimeLimit.truncated': True, 'terminal_observation': array([ 0.06126048,  0.41648084, -0.01993659, -0.26913723])}]\n",
      "info [{'TimeLimit.truncated': False, 'terminal_observation': array([-1.66223236, -0.93850691,  0.21887528,  0.29465201])}]\n",
      "info [{'TimeLimit.truncated': True, 'terminal_observation': array([-1.936837  , -0.33636608,  0.08502909, -0.04698343])}]\n",
      "info [{'TimeLimit.truncated': True, 'terminal_observation': array([ 1.06091836,  0.42046159,  0.08583337, -0.19031268])}]\n",
      "info [{'TimeLimit.truncated': False, 'terminal_observation': array([1.68939748, 0.53570731, 0.20963821, 0.32523173])}]\n",
      "info [{'TimeLimit.truncated': True, 'terminal_observation': array([-0.05502658,  0.75006089,  0.11001446, -0.44673196])}]\n",
      "info [{'TimeLimit.truncated': True, 'terminal_observation': array([ 0.91493192,  0.03716865, -0.0763522 ,  0.08027157])}]\n",
      "info [{'TimeLimit.truncated': False, 'terminal_observation': array([-2.40506873, -1.24850484,  0.02918561,  0.43553181])}]\n",
      "info [{'TimeLimit.truncated': False, 'terminal_observation': array([ 2.41170458,  1.5190153 ,  0.03613148, -0.26763419])}]\n"
     ]
    },
    {
     "name": "stdout",
     "output_type": "stream",
     "text": [
      "info [{'TimeLimit.truncated': False, 'terminal_observation': array([-0.13100863, -0.17041362, -0.21105026, -0.15896842])}]\n",
      "info [{'TimeLimit.truncated': True, 'terminal_observation': array([-0.56043081, -0.73385845, -0.03001233,  0.20868677])}]\n",
      "info [{'TimeLimit.truncated': False, 'terminal_observation': array([ 0.7452512 ,  0.40854925, -0.20955602, -0.51615046])}]\n",
      "info [{'TimeLimit.truncated': False, 'terminal_observation': array([ 0.82968488,  0.4106383 , -0.21591449, -0.6609652 ])}]\n",
      "info [{'TimeLimit.truncated': True, 'terminal_observation': array([ 2.25955352, -0.33941293, -0.13635405,  0.31648118])}]\n",
      "info [{'TimeLimit.truncated': False, 'terminal_observation': array([2.41560902, 1.08614943, 0.08287428, 0.03599   ])}]\n",
      "info [{'TimeLimit.truncated': False, 'terminal_observation': array([2.40643715, 0.92167676, 0.01512978, 0.54310902])}]\n",
      "info [{'TimeLimit.truncated': True, 'terminal_observation': array([0.35358024, 0.40712762, 0.06020115, 0.01525504])}]\n",
      "info [{'TimeLimit.truncated': False, 'terminal_observation': array([ 2.41936035,  2.2532675 , -0.15677204, -0.91049826])}]\n",
      "info [{'TimeLimit.truncated': False, 'terminal_observation': array([1.95185226, 0.74095244, 0.22058858, 0.58648149])}]\n",
      "info [{'TimeLimit.truncated': False, 'terminal_observation': array([-2.40094425, -1.63613323,  0.03940738,  0.43027474])}]\n",
      "info [{'TimeLimit.truncated': False, 'terminal_observation': array([ 0.55118157,  0.23574316, -0.21323162, -0.26436063])}]\n",
      "info [{'TimeLimit.truncated': False, 'terminal_observation': array([2.34593326, 0.51822674, 0.22116172, 0.37027552])}]\n",
      "info [{'TimeLimit.truncated': True, 'terminal_observation': array([-1.10309228, -0.77426466, -0.09483528,  0.21556543])}]\n",
      "info [{'TimeLimit.truncated': True, 'terminal_observation': array([ 0.76479048,  0.70782458,  0.00505783, -0.09444223])}]\n",
      "info [{'TimeLimit.truncated': False, 'terminal_observation': array([ 1.5732175 , -0.1390581 , -0.21216097, -0.02059056])}]\n",
      "info [{'TimeLimit.truncated': False, 'terminal_observation': array([-2.41084288, -1.32372007, -0.12977023,  0.64349741])}]\n",
      "info [{'TimeLimit.truncated': False, 'terminal_observation': array([ 2.41355762,  1.88683841,  0.07199557, -0.58732644])}]\n",
      "info [{'TimeLimit.truncated': True, 'terminal_observation': array([ 0.58770109,  0.41907507, -0.02681919, -0.20149559])}]\n",
      "info [{'TimeLimit.truncated': False, 'terminal_observation': array([ 2.42899288,  1.81633707,  0.15519453, -0.59541677])}]\n",
      "info [{'TimeLimit.truncated': False, 'terminal_observation': array([ 0.86490339, -0.36033778, -0.21013338,  0.15919535])}]\n",
      "info [{'TimeLimit.truncated': True, 'terminal_observation': array([ 1.5733311 ,  0.0113529 , -0.03314221,  0.36009985])}]\n",
      "info [{'TimeLimit.truncated': True, 'terminal_observation': array([ 0.37545276,  0.00411171, -0.02246863,  0.25828352])}]\n",
      "info [{'TimeLimit.truncated': False, 'terminal_observation': array([2.41376697, 1.47421524, 0.1667984 , 0.22102756])}]\n",
      "info [{'TimeLimit.truncated': True, 'terminal_observation': array([ 0.35871848, -0.42003278,  0.04015795,  0.34542425])}]\n",
      "info [{'TimeLimit.truncated': False, 'terminal_observation': array([-2.42450793, -1.25636809, -0.03587821,  0.06772761])}]\n",
      "info [{'TimeLimit.truncated': True, 'terminal_observation': array([-1.27691631, -0.33327855, -0.03385365,  0.11939808])}]\n",
      "info [{'TimeLimit.truncated': True, 'terminal_observation': array([ 1.1632932 ,  0.35191256,  0.06605312, -0.21990335])}]\n",
      "info [{'TimeLimit.truncated': False, 'terminal_observation': array([ 1.32705928, -0.04935536,  0.20988263,  0.64573883])}]\n",
      "info [{'TimeLimit.truncated': True, 'terminal_observation': array([-0.20009155,  0.33555802,  0.15001101, -0.03323098])}]\n"
     ]
    }
   ],
   "source": [
    "obs = env.reset()\n",
    "episodes = 100\n",
    "for episode in range(1, episodes+1):\n",
    "    while True:\n",
    "        action, _states = model.predict(obs)\n",
    "        obs, rewards, done, info = env.step(action)\n",
    "        env.render()\n",
    "        if done: \n",
    "            print('info', info)\n",
    "            break"
   ]
  },
  {
   "cell_type": "code",
   "execution_count": 20,
   "metadata": {},
   "outputs": [],
   "source": [
    "env.render()\n",
    "env = gym.make(\"CartPole-v1\")"
   ]
  },
  {
   "cell_type": "code",
   "execution_count": null,
   "metadata": {},
   "outputs": [
    {
     "name": "stdout",
     "output_type": "stream",
     "text": [
      "Episode:1 Score:423.0\n",
      "Episode:2 Score:426.0\n"
     ]
    }
   ],
   "source": [
    "env.close()\n",
    "episodes = 5\n",
    "for episode in range(1, episodes+1):\n",
    "    state = env.reset()\n",
    "    done = False\n",
    "    score = 0 \n",
    "    \n",
    "    while not done:\n",
    "        action,_states = model.predict(state)\n",
    "        state, reward, done, info = env.step(action)\n",
    "        score+=reward\n",
    "        env.render()\n",
    "    print('Episode:{} Score:{}'.format(episode, score))\n",
    "    \n",
    "env.close()"
   ]
  },
  {
   "cell_type": "code",
   "execution_count": null,
   "metadata": {},
   "outputs": [],
   "source": []
  }
 ],
 "metadata": {
  "kernelspec": {
   "display_name": "Python 3 (ipykernel)",
   "language": "python",
   "name": "python3"
  },
  "language_info": {
   "codemirror_mode": {
    "name": "ipython",
    "version": 3
   },
   "file_extension": ".py",
   "mimetype": "text/x-python",
   "name": "python",
   "nbconvert_exporter": "python",
   "pygments_lexer": "ipython3",
   "version": "3.11.2"
  }
 },
 "nbformat": 4,
 "nbformat_minor": 2
}
