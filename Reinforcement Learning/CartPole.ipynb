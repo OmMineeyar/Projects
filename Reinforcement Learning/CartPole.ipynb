{
 "cells": [
  {
   "cell_type": "markdown",
   "metadata": {},
   "source": [
    "# 1. Import dependencies"
   ]
  },
  {
   "cell_type": "code",
   "execution_count": 1,
   "metadata": {},
   "outputs": [
    {
     "name": "stdout",
     "output_type": "stream",
     "text": [
      "Collecting stable-baselines3[extra]\n",
      "  Using cached stable_baselines3-2.3.2-py3-none-any.whl.metadata (5.1 kB)\n",
      "Requirement already satisfied: gymnasium<0.30,>=0.28.1 in c:\\python312\\lib\\site-packages (from stable-baselines3[extra]) (0.29.1)\n",
      "Requirement already satisfied: numpy>=1.20 in c:\\python312\\lib\\site-packages (from stable-baselines3[extra]) (1.26.4)\n",
      "Collecting torch>=1.13 (from stable-baselines3[extra])\n",
      "  Using cached torch-2.3.1-cp312-cp312-win_amd64.whl.metadata (26 kB)\n",
      "Requirement already satisfied: cloudpickle in c:\\python312\\lib\\site-packages (from stable-baselines3[extra]) (1.6.0)\n",
      "Collecting pandas (from stable-baselines3[extra])\n",
      "  Using cached pandas-2.2.2-cp312-cp312-win_amd64.whl.metadata (19 kB)\n",
      "Collecting matplotlib (from stable-baselines3[extra])\n",
      "  Using cached matplotlib-3.9.0-cp312-cp312-win_amd64.whl.metadata (11 kB)\n",
      "Collecting opencv-python (from stable-baselines3[extra])\n",
      "  Using cached opencv_python-4.10.0.82-cp37-abi3-win_amd64.whl.metadata (20 kB)\n",
      "Requirement already satisfied: pygame in c:\\python312\\lib\\site-packages (from stable-baselines3[extra]) (2.5.2)\n",
      "Collecting tensorboard>=2.9.1 (from stable-baselines3[extra])\n",
      "  Using cached tensorboard-2.17.0-py3-none-any.whl.metadata (1.6 kB)\n",
      "Collecting psutil (from stable-baselines3[extra])\n",
      "  Using cached psutil-5.9.8-cp37-abi3-win_amd64.whl.metadata (22 kB)\n",
      "Requirement already satisfied: tqdm in c:\\python312\\lib\\site-packages (from stable-baselines3[extra]) (4.66.4)\n",
      "Collecting rich (from stable-baselines3[extra])\n",
      "  Using cached rich-13.7.1-py3-none-any.whl.metadata (18 kB)\n",
      "Collecting shimmy~=1.3.0 (from shimmy[atari]~=1.3.0; extra == \"extra\"->stable-baselines3[extra])\n",
      "  Using cached Shimmy-1.3.0-py3-none-any.whl.metadata (3.7 kB)\n",
      "Collecting pillow (from stable-baselines3[extra])\n",
      "  Using cached pillow-10.3.0-cp312-cp312-win_amd64.whl.metadata (9.4 kB)\n",
      "Collecting autorom~=0.6.1 (from autorom[accept-rom-license]~=0.6.1; extra == \"extra\"->stable-baselines3[extra])\n",
      "  Using cached AutoROM-0.6.1-py3-none-any.whl.metadata (2.4 kB)\n",
      "Requirement already satisfied: click in c:\\python312\\lib\\site-packages (from autorom~=0.6.1->autorom[accept-rom-license]~=0.6.1; extra == \"extra\"->stable-baselines3[extra]) (8.1.7)\n",
      "Requirement already satisfied: requests in c:\\python312\\lib\\site-packages (from autorom~=0.6.1->autorom[accept-rom-license]~=0.6.1; extra == \"extra\"->stable-baselines3[extra]) (2.32.3)\n",
      "Requirement already satisfied: AutoROM.accept-rom-license in c:\\python312\\lib\\site-packages (from autorom[accept-rom-license]~=0.6.1; extra == \"extra\"->stable-baselines3[extra]) (0.6.1)\n",
      "Requirement already satisfied: typing-extensions>=4.3.0 in c:\\python312\\lib\\site-packages (from gymnasium<0.30,>=0.28.1->stable-baselines3[extra]) (4.12.1)\n",
      "Requirement already satisfied: farama-notifications>=0.0.1 in c:\\python312\\lib\\site-packages (from gymnasium<0.30,>=0.28.1->stable-baselines3[extra]) (0.0.4)\n",
      "INFO: pip is looking at multiple versions of shimmy[atari] to determine which version is compatible with other requirements. This could take a while.\n",
      "Collecting stable-baselines3[extra]\n",
      "  Using cached stable_baselines3-2.2.1-py3-none-any.whl.metadata (5.0 kB)\n",
      "  Using cached stable_baselines3-2.1.0-py3-none-any.whl.metadata (5.2 kB)\n",
      "Collecting shimmy~=1.1.0 (from shimmy[atari]~=1.1.0; extra == \"extra\"->stable-baselines3[extra])\n",
      "  Using cached Shimmy-1.1.0-py3-none-any.whl.metadata (3.3 kB)\n",
      "Collecting stable-baselines3[extra]\n",
      "  Using cached stable_baselines3-2.0.0-py3-none-any.whl.metadata (5.4 kB)\n",
      "Collecting gymnasium==0.28.1 (from stable-baselines3[extra])\n",
      "  Using cached gymnasium-0.28.1-py3-none-any.whl.metadata (9.2 kB)\n",
      "Collecting shimmy~=0.2.1 (from shimmy[atari]~=0.2.1; extra == \"extra\"->stable-baselines3[extra])\n",
      "  Using cached Shimmy-0.2.1-py3-none-any.whl.metadata (2.3 kB)\n",
      "Collecting jax-jumpy>=1.0.0 (from gymnasium==0.28.1->stable-baselines3[extra])\n",
      "  Using cached jax_jumpy-1.0.0-py3-none-any.whl.metadata (15 kB)\n",
      "Collecting stable-baselines3[extra]\n",
      "  Using cached stable_baselines3-1.8.0-py3-none-any.whl.metadata (5.0 kB)\n",
      "Collecting gym==0.21 (from stable-baselines3[extra])\n",
      "  Using cached gym-0.21.0.tar.gz (1.5 MB)\n",
      "  Installing build dependencies: started\n",
      "  Installing build dependencies: finished with status 'done'\n",
      "  Getting requirements to build wheel: started\n",
      "  Getting requirements to build wheel: finished with status 'error'\n"
     ]
    },
    {
     "name": "stderr",
     "output_type": "stream",
     "text": [
      "  error: subprocess-exited-with-error\n",
      "  \n",
      "  Getting requirements to build wheel did not run successfully.\n",
      "  exit code: 1\n",
      "  \n",
      "  [1 lines of output]\n",
      "  error in gym setup command: 'extras_require' must be a dictionary whose values are strings or lists of strings containing valid project/version requirement specifiers.\n",
      "  [end of output]\n",
      "  \n",
      "  note: This error originates from a subprocess, and is likely not a problem with pip.\n",
      "error: subprocess-exited-with-error\n",
      "\n",
      "Getting requirements to build wheel did not run successfully.\n",
      "exit code: 1\n",
      "\n",
      "See above for output.\n",
      "\n",
      "note: This error originates from a subprocess, and is likely not a problem with pip.\n"
     ]
    },
    {
     "name": "stdout",
     "output_type": "stream",
     "text": [
      "Requirement already satisfied: gym==0.17.3 in c:\\python312\\lib\\site-packages (0.17.3)\n",
      "Requirement already satisfied: scipy in c:\\python312\\lib\\site-packages (from gym==0.17.3) (1.13.1)\n",
      "Requirement already satisfied: numpy>=1.10.4 in c:\\python312\\lib\\site-packages (from gym==0.17.3) (1.26.4)\n",
      "Requirement already satisfied: pyglet<=1.5.0,>=1.4.0 in c:\\python312\\lib\\site-packages (from gym==0.17.3) (1.5.0)\n",
      "Requirement already satisfied: cloudpickle<1.7.0,>=1.2.0 in c:\\python312\\lib\\site-packages (from gym==0.17.3) (1.6.0)\n",
      "Requirement already satisfied: future in c:\\python312\\lib\\site-packages (from pyglet<=1.5.0,>=1.4.0->gym==0.17.3) (1.0.0)\n"
     ]
    }
   ],
   "source": [
    "!pip install stable-baselines3[extra]\n",
    "!pip install gym==0.17.3"
   ]
  },
  {
   "cell_type": "code",
   "execution_count": 2,
   "metadata": {},
   "outputs": [],
   "source": [
    "import gym\n",
    "import os\n",
    "from stable_baselines3 import PPO\n",
    "from stable_baselines3.common.vec_env import DummyVecEnv\n",
    "from stable_baselines3.common.evaluation import evaluate_policy"
   ]
  },
  {
   "cell_type": "markdown",
   "metadata": {},
   "source": [
    "# 2. Load Environment"
   ]
  },
  {
   "cell_type": "code",
   "execution_count": 3,
   "metadata": {},
   "outputs": [],
   "source": [
    "environment_name = \"CartPole-v1\""
   ]
  },
  {
   "cell_type": "code",
   "execution_count": 4,
   "metadata": {},
   "outputs": [],
   "source": [
    "env = gym.make(\"CartPole-v1\")"
   ]
  },
  {
   "cell_type": "code",
   "execution_count": 5,
   "metadata": {},
   "outputs": [
    {
     "name": "stdout",
     "output_type": "stream",
     "text": [
      "Episode:1 Score:21.0\n",
      "Episode:2 Score:35.0\n",
      "Episode:3 Score:41.0\n",
      "Episode:4 Score:24.0\n",
      "Episode:5 Score:12.0\n",
      "Episode:6 Score:21.0\n",
      "Episode:7 Score:13.0\n",
      "Episode:8 Score:19.0\n",
      "Episode:9 Score:22.0\n",
      "Episode:10 Score:17.0\n",
      "Episode:11 Score:21.0\n",
      "Episode:12 Score:25.0\n",
      "Episode:13 Score:32.0\n",
      "Episode:14 Score:13.0\n",
      "Episode:15 Score:18.0\n",
      "Episode:16 Score:27.0\n",
      "Episode:17 Score:24.0\n",
      "Episode:18 Score:10.0\n",
      "Episode:19 Score:16.0\n",
      "Episode:20 Score:18.0\n",
      "Episode:21 Score:11.0\n",
      "Episode:22 Score:17.0\n",
      "Episode:23 Score:16.0\n",
      "Episode:24 Score:20.0\n",
      "Episode:25 Score:28.0\n",
      "Episode:26 Score:14.0\n",
      "Episode:27 Score:44.0\n",
      "Episode:28 Score:18.0\n",
      "Episode:29 Score:29.0\n",
      "Episode:30 Score:13.0\n",
      "Episode:31 Score:30.0\n",
      "Episode:32 Score:16.0\n",
      "Episode:33 Score:19.0\n",
      "Episode:34 Score:45.0\n",
      "Episode:35 Score:46.0\n",
      "Episode:36 Score:11.0\n",
      "Episode:37 Score:14.0\n",
      "Episode:38 Score:15.0\n",
      "Episode:39 Score:30.0\n",
      "Episode:40 Score:29.0\n",
      "Episode:41 Score:14.0\n",
      "Episode:42 Score:12.0\n",
      "Episode:43 Score:21.0\n",
      "Episode:44 Score:12.0\n",
      "Episode:45 Score:11.0\n",
      "Episode:46 Score:10.0\n",
      "Episode:47 Score:29.0\n",
      "Episode:48 Score:17.0\n",
      "Episode:49 Score:17.0\n",
      "Episode:50 Score:22.0\n"
     ]
    }
   ],
   "source": [
    "episodes = 50\n",
    "for episode in range(1, episodes+1):\n",
    "    state = env.reset()\n",
    "    done = False\n",
    "    score = 0 \n",
    "    \n",
    "    while not done:\n",
    "        env.render()\n",
    "        action = env.action_space.sample()\n",
    "        n_state, reward, done, info = env.step(action)\n",
    "        score+=reward\n",
    "    print('Episode:{} Score:{}'.format(episode, score))"
   ]
  },
  {
   "cell_type": "markdown",
   "metadata": {},
   "source": [
    "# Understanding The Environment"
   ]
  },
  {
   "cell_type": "code",
   "execution_count": 6,
   "metadata": {},
   "outputs": [
    {
     "data": {
      "text/plain": [
       "0"
      ]
     },
     "execution_count": 6,
     "metadata": {},
     "output_type": "execute_result"
    }
   ],
   "source": [
    "env.close()\n",
    "# 0-push cart to left, 1-push cart to the right\n",
    "env.action_space.sample()"
   ]
  },
  {
   "cell_type": "code",
   "execution_count": 7,
   "metadata": {},
   "outputs": [
    {
     "data": {
      "text/plain": [
       "array([ 1.1761049e+00, -6.8571277e+37, -1.4839041e-01,  2.7553968e+38],\n",
       "      dtype=float32)"
      ]
     },
     "execution_count": 7,
     "metadata": {},
     "output_type": "execute_result"
    }
   ],
   "source": [
    "# [cart position, cart velocity, pole angle, pole angular velocity]\n",
    "env.observation_space.sample()"
   ]
  },
  {
   "cell_type": "markdown",
   "metadata": {},
   "source": [
    "# 3. Train an RL Model"
   ]
  },
  {
   "cell_type": "code",
   "execution_count": 8,
   "metadata": {},
   "outputs": [
    {
     "name": "stdout",
     "output_type": "stream",
     "text": [
      "Using cpu device\n"
     ]
    },
    {
     "name": "stderr",
     "output_type": "stream",
     "text": [
      "C:\\Users\\ommin\\AppData\\Local\\Programs\\Python\\Python311\\Lib\\site-packages\\stable_baselines3\\common\\vec_env\\patch_gym.py:49: UserWarning: You provided an OpenAI Gym environment. We strongly recommend transitioning to Gymnasium environments. Stable-Baselines3 is automatically wrapping your environments in a compatibility layer, which could potentially cause issues.\n",
      "  warnings.warn(\n"
     ]
    }
   ],
   "source": [
    "env = gym.make(environment_name)\n",
    "env = DummyVecEnv([lambda: env])\n",
    "model = PPO('MlpPolicy', env, verbose = 1) #,tensorboard_log=log_path#*)"
   ]
  },
  {
   "cell_type": "code",
   "execution_count": 16,
   "metadata": {
    "scrolled": true
   },
   "outputs": [
    {
     "name": "stdout",
     "output_type": "stream",
     "text": [
      "-----------------------------\n",
      "| time/              |      |\n",
      "|    fps             | 1508 |\n",
      "|    iterations      | 1    |\n",
      "|    time_elapsed    | 1    |\n",
      "|    total_timesteps | 2048 |\n",
      "-----------------------------\n",
      "------------------------------------------\n",
      "| time/                   |              |\n",
      "|    fps                  | 1047         |\n",
      "|    iterations           | 2            |\n",
      "|    time_elapsed         | 3            |\n",
      "|    total_timesteps      | 4096         |\n",
      "| train/                  |              |\n",
      "|    approx_kl            | 0.0024855742 |\n",
      "|    clip_fraction        | 0.0386       |\n",
      "|    clip_range           | 0.2          |\n",
      "|    entropy_loss         | -0.558       |\n",
      "|    explained_variance   | 0.821        |\n",
      "|    learning_rate        | 0.0003       |\n",
      "|    loss                 | 21.5         |\n",
      "|    n_updates            | 110          |\n",
      "|    policy_gradient_loss | -0.00503     |\n",
      "|    value_loss           | 28.9         |\n",
      "------------------------------------------\n",
      "------------------------------------------\n",
      "| time/                   |              |\n",
      "|    fps                  | 945          |\n",
      "|    iterations           | 3            |\n",
      "|    time_elapsed         | 6            |\n",
      "|    total_timesteps      | 6144         |\n",
      "| train/                  |              |\n",
      "|    approx_kl            | 0.0056118825 |\n",
      "|    clip_fraction        | 0.0596       |\n",
      "|    clip_range           | 0.2          |\n",
      "|    entropy_loss         | -0.551       |\n",
      "|    explained_variance   | 0.182        |\n",
      "|    learning_rate        | 0.0003       |\n",
      "|    loss                 | 7.37         |\n",
      "|    n_updates            | 120          |\n",
      "|    policy_gradient_loss | -0.00297     |\n",
      "|    value_loss           | 22.1         |\n",
      "------------------------------------------\n",
      "-----------------------------------------\n",
      "| time/                   |             |\n",
      "|    fps                  | 900         |\n",
      "|    iterations           | 4           |\n",
      "|    time_elapsed         | 9           |\n",
      "|    total_timesteps      | 8192        |\n",
      "| train/                  |             |\n",
      "|    approx_kl            | 0.004200069 |\n",
      "|    clip_fraction        | 0.0236      |\n",
      "|    clip_range           | 0.2         |\n",
      "|    entropy_loss         | -0.539      |\n",
      "|    explained_variance   | -0.0305     |\n",
      "|    learning_rate        | 0.0003      |\n",
      "|    loss                 | 0.274       |\n",
      "|    n_updates            | 130         |\n",
      "|    policy_gradient_loss | -0.00019    |\n",
      "|    value_loss           | 3.16        |\n",
      "-----------------------------------------\n",
      "-----------------------------------------\n",
      "| time/                   |             |\n",
      "|    fps                  | 881         |\n",
      "|    iterations           | 5           |\n",
      "|    time_elapsed         | 11          |\n",
      "|    total_timesteps      | 10240       |\n",
      "| train/                  |             |\n",
      "|    approx_kl            | 0.004851883 |\n",
      "|    clip_fraction        | 0.0441      |\n",
      "|    clip_range           | 0.2         |\n",
      "|    entropy_loss         | -0.548      |\n",
      "|    explained_variance   | 0.394       |\n",
      "|    learning_rate        | 0.0003      |\n",
      "|    loss                 | 0.0626      |\n",
      "|    n_updates            | 140         |\n",
      "|    policy_gradient_loss | -0.00509    |\n",
      "|    value_loss           | 2.16        |\n",
      "-----------------------------------------\n",
      "------------------------------------------\n",
      "| time/                   |              |\n",
      "|    fps                  | 863          |\n",
      "|    iterations           | 6            |\n",
      "|    time_elapsed         | 14           |\n",
      "|    total_timesteps      | 12288        |\n",
      "| train/                  |              |\n",
      "|    approx_kl            | 0.0005709142 |\n",
      "|    clip_fraction        | 0.00171      |\n",
      "|    clip_range           | 0.2          |\n",
      "|    entropy_loss         | -0.539       |\n",
      "|    explained_variance   | 0.0292       |\n",
      "|    learning_rate        | 0.0003       |\n",
      "|    loss                 | 0.0357       |\n",
      "|    n_updates            | 150          |\n",
      "|    policy_gradient_loss | 0.00074      |\n",
      "|    value_loss           | 1.42         |\n",
      "------------------------------------------\n",
      "------------------------------------------\n",
      "| time/                   |              |\n",
      "|    fps                  | 851          |\n",
      "|    iterations           | 7            |\n",
      "|    time_elapsed         | 16           |\n",
      "|    total_timesteps      | 14336        |\n",
      "| train/                  |              |\n",
      "|    approx_kl            | 0.0035339063 |\n",
      "|    clip_fraction        | 0.0206       |\n",
      "|    clip_range           | 0.2          |\n",
      "|    entropy_loss         | -0.548       |\n",
      "|    explained_variance   | 0.0365       |\n",
      "|    learning_rate        | 0.0003       |\n",
      "|    loss                 | 0.0131       |\n",
      "|    n_updates            | 160          |\n",
      "|    policy_gradient_loss | -0.000706    |\n",
      "|    value_loss           | 0.881        |\n",
      "------------------------------------------\n",
      "------------------------------------------\n",
      "| time/                   |              |\n",
      "|    fps                  | 843          |\n",
      "|    iterations           | 8            |\n",
      "|    time_elapsed         | 19           |\n",
      "|    total_timesteps      | 16384        |\n",
      "| train/                  |              |\n",
      "|    approx_kl            | 0.0018826304 |\n",
      "|    clip_fraction        | 0.000342     |\n",
      "|    clip_range           | 0.2          |\n",
      "|    entropy_loss         | -0.534       |\n",
      "|    explained_variance   | 0.0365       |\n",
      "|    learning_rate        | 0.0003       |\n",
      "|    loss                 | 6.17         |\n",
      "|    n_updates            | 170          |\n",
      "|    policy_gradient_loss | -0.000721    |\n",
      "|    value_loss           | 19.6         |\n",
      "------------------------------------------\n",
      "------------------------------------------\n",
      "| time/                   |              |\n",
      "|    fps                  | 833          |\n",
      "|    iterations           | 9            |\n",
      "|    time_elapsed         | 22           |\n",
      "|    total_timesteps      | 18432        |\n",
      "| train/                  |              |\n",
      "|    approx_kl            | 0.0061283866 |\n",
      "|    clip_fraction        | 0.0491       |\n",
      "|    clip_range           | 0.2          |\n",
      "|    entropy_loss         | -0.53        |\n",
      "|    explained_variance   | -0.204       |\n",
      "|    learning_rate        | 0.0003       |\n",
      "|    loss                 | 0.0574       |\n",
      "|    n_updates            | 180          |\n",
      "|    policy_gradient_loss | -0.00363     |\n",
      "|    value_loss           | 0.447        |\n",
      "------------------------------------------\n",
      "------------------------------------------\n",
      "| time/                   |              |\n",
      "|    fps                  | 822          |\n",
      "|    iterations           | 10           |\n",
      "|    time_elapsed         | 24           |\n",
      "|    total_timesteps      | 20480        |\n",
      "| train/                  |              |\n",
      "|    approx_kl            | 0.0064857863 |\n",
      "|    clip_fraction        | 0.0583       |\n",
      "|    clip_range           | 0.2          |\n",
      "|    entropy_loss         | -0.507       |\n",
      "|    explained_variance   | -0.145       |\n",
      "|    learning_rate        | 0.0003       |\n",
      "|    loss                 | 0.0199       |\n",
      "|    n_updates            | 190          |\n",
      "|    policy_gradient_loss | -0.00617     |\n",
      "|    value_loss           | 0.197        |\n",
      "------------------------------------------\n",
      "-----------------------------------------\n",
      "| time/                   |             |\n",
      "|    fps                  | 826         |\n",
      "|    iterations           | 11          |\n",
      "|    time_elapsed         | 27          |\n",
      "|    total_timesteps      | 22528       |\n",
      "| train/                  |             |\n",
      "|    approx_kl            | 0.003419304 |\n",
      "|    clip_fraction        | 0.0222      |\n",
      "|    clip_range           | 0.2         |\n",
      "|    entropy_loss         | -0.508      |\n",
      "|    explained_variance   | -0.00963    |\n",
      "|    learning_rate        | 0.0003      |\n",
      "|    loss                 | 0.0054      |\n",
      "|    n_updates            | 200         |\n",
      "|    policy_gradient_loss | -0.000498   |\n",
      "|    value_loss           | 0.112       |\n",
      "-----------------------------------------\n",
      "-----------------------------------------\n",
      "| time/                   |             |\n",
      "|    fps                  | 827         |\n",
      "|    iterations           | 12          |\n",
      "|    time_elapsed         | 29          |\n",
      "|    total_timesteps      | 24576       |\n",
      "| train/                  |             |\n",
      "|    approx_kl            | 0.002450439 |\n",
      "|    clip_fraction        | 0.0128      |\n",
      "|    clip_range           | 0.2         |\n",
      "|    entropy_loss         | -0.507      |\n",
      "|    explained_variance   | 0.0142      |\n",
      "|    learning_rate        | 0.0003      |\n",
      "|    loss                 | 0.0218      |\n",
      "|    n_updates            | 210         |\n",
      "|    policy_gradient_loss | -0.00111    |\n",
      "|    value_loss           | 0.0707      |\n",
      "-----------------------------------------\n"
     ]
    },
    {
     "name": "stdout",
     "output_type": "stream",
     "text": [
      "-----------------------------------------\n",
      "| time/                   |             |\n",
      "|    fps                  | 822         |\n",
      "|    iterations           | 13          |\n",
      "|    time_elapsed         | 32          |\n",
      "|    total_timesteps      | 26624       |\n",
      "| train/                  |             |\n",
      "|    approx_kl            | 0.001908398 |\n",
      "|    clip_fraction        | 0.0188      |\n",
      "|    clip_range           | 0.2         |\n",
      "|    entropy_loss         | -0.508      |\n",
      "|    explained_variance   | -0.0173     |\n",
      "|    learning_rate        | 0.0003      |\n",
      "|    loss                 | 0.00669     |\n",
      "|    n_updates            | 220         |\n",
      "|    policy_gradient_loss | -0.00134    |\n",
      "|    value_loss           | 0.0476      |\n",
      "-----------------------------------------\n",
      "------------------------------------------\n",
      "| time/                   |              |\n",
      "|    fps                  | 820          |\n",
      "|    iterations           | 14           |\n",
      "|    time_elapsed         | 34           |\n",
      "|    total_timesteps      | 28672        |\n",
      "| train/                  |              |\n",
      "|    approx_kl            | 0.0006367649 |\n",
      "|    clip_fraction        | 0.0101       |\n",
      "|    clip_range           | 0.2          |\n",
      "|    entropy_loss         | -0.518       |\n",
      "|    explained_variance   | -0.0299      |\n",
      "|    learning_rate        | 0.0003       |\n",
      "|    loss                 | 0.00315      |\n",
      "|    n_updates            | 230          |\n",
      "|    policy_gradient_loss | 0.000627     |\n",
      "|    value_loss           | 0.0303       |\n",
      "------------------------------------------\n",
      "------------------------------------------\n",
      "| time/                   |              |\n",
      "|    fps                  | 822          |\n",
      "|    iterations           | 15           |\n",
      "|    time_elapsed         | 37           |\n",
      "|    total_timesteps      | 30720        |\n",
      "| train/                  |              |\n",
      "|    approx_kl            | 0.0033935043 |\n",
      "|    clip_fraction        | 0.0398       |\n",
      "|    clip_range           | 0.2          |\n",
      "|    entropy_loss         | -0.483       |\n",
      "|    explained_variance   | 0.000214     |\n",
      "|    learning_rate        | 0.0003       |\n",
      "|    loss                 | -0.0127      |\n",
      "|    n_updates            | 240          |\n",
      "|    policy_gradient_loss | -0.0032      |\n",
      "|    value_loss           | 0.0187       |\n",
      "------------------------------------------\n",
      "----------------------------------------\n",
      "| time/                   |            |\n",
      "|    fps                  | 822        |\n",
      "|    iterations           | 16         |\n",
      "|    time_elapsed         | 39         |\n",
      "|    total_timesteps      | 32768      |\n",
      "| train/                  |            |\n",
      "|    approx_kl            | 0.00772867 |\n",
      "|    clip_fraction        | 0.0649     |\n",
      "|    clip_range           | 0.2        |\n",
      "|    entropy_loss         | -0.488     |\n",
      "|    explained_variance   | -0.0234    |\n",
      "|    learning_rate        | 0.0003     |\n",
      "|    loss                 | 0.00807    |\n",
      "|    n_updates            | 250        |\n",
      "|    policy_gradient_loss | -0.00296   |\n",
      "|    value_loss           | 0.0119     |\n",
      "----------------------------------------\n",
      "------------------------------------------\n",
      "| time/                   |              |\n",
      "|    fps                  | 825          |\n",
      "|    iterations           | 17           |\n",
      "|    time_elapsed         | 42           |\n",
      "|    total_timesteps      | 34816        |\n",
      "| train/                  |              |\n",
      "|    approx_kl            | 0.0045056525 |\n",
      "|    clip_fraction        | 0.0408       |\n",
      "|    clip_range           | 0.2          |\n",
      "|    entropy_loss         | -0.497       |\n",
      "|    explained_variance   | -0.0201      |\n",
      "|    learning_rate        | 0.0003       |\n",
      "|    loss                 | -0.00752     |\n",
      "|    n_updates            | 260          |\n",
      "|    policy_gradient_loss | -0.0022      |\n",
      "|    value_loss           | 0.00772      |\n",
      "------------------------------------------\n",
      "------------------------------------------\n",
      "| time/                   |              |\n",
      "|    fps                  | 827          |\n",
      "|    iterations           | 18           |\n",
      "|    time_elapsed         | 44           |\n",
      "|    total_timesteps      | 36864        |\n",
      "| train/                  |              |\n",
      "|    approx_kl            | 0.0059051607 |\n",
      "|    clip_fraction        | 0.0468       |\n",
      "|    clip_range           | 0.2          |\n",
      "|    entropy_loss         | -0.498       |\n",
      "|    explained_variance   | 0.0563       |\n",
      "|    learning_rate        | 0.0003       |\n",
      "|    loss                 | 0.000191     |\n",
      "|    n_updates            | 270          |\n",
      "|    policy_gradient_loss | -0.00232     |\n",
      "|    value_loss           | 0.00498      |\n",
      "------------------------------------------\n",
      "-----------------------------------------\n",
      "| time/                   |             |\n",
      "|    fps                  | 828         |\n",
      "|    iterations           | 19          |\n",
      "|    time_elapsed         | 46          |\n",
      "|    total_timesteps      | 38912       |\n",
      "| train/                  |             |\n",
      "|    approx_kl            | 0.004745505 |\n",
      "|    clip_fraction        | 0.025       |\n",
      "|    clip_range           | 0.2         |\n",
      "|    entropy_loss         | -0.486      |\n",
      "|    explained_variance   | -0.0732     |\n",
      "|    learning_rate        | 0.0003      |\n",
      "|    loss                 | -0.00544    |\n",
      "|    n_updates            | 280         |\n",
      "|    policy_gradient_loss | -0.000318   |\n",
      "|    value_loss           | 0.00336     |\n",
      "-----------------------------------------\n",
      "------------------------------------------\n",
      "| time/                   |              |\n",
      "|    fps                  | 830          |\n",
      "|    iterations           | 20           |\n",
      "|    time_elapsed         | 49           |\n",
      "|    total_timesteps      | 40960        |\n",
      "| train/                  |              |\n",
      "|    approx_kl            | 0.0013351075 |\n",
      "|    clip_fraction        | 0.0178       |\n",
      "|    clip_range           | 0.2          |\n",
      "|    entropy_loss         | -0.508       |\n",
      "|    explained_variance   | -0.0319      |\n",
      "|    learning_rate        | 0.0003       |\n",
      "|    loss                 | -0.00463     |\n",
      "|    n_updates            | 290          |\n",
      "|    policy_gradient_loss | -0.000289    |\n",
      "|    value_loss           | 0.00221      |\n",
      "------------------------------------------\n"
     ]
    },
    {
     "data": {
      "text/plain": [
       "<stable_baselines3.ppo.ppo.PPO at 0x147a10c3b10>"
      ]
     },
     "execution_count": 16,
     "metadata": {},
     "output_type": "execute_result"
    }
   ],
   "source": [
    "model.learn(total_timesteps=40000)"
   ]
  },
  {
   "cell_type": "markdown",
   "metadata": {},
   "source": [
    "# 4. Evaluation"
   ]
  },
  {
   "cell_type": "code",
   "execution_count": 10,
   "metadata": {},
   "outputs": [],
   "source": [
    "from stable_baselines3.common.evaluation import evaluate_policy"
   ]
  },
  {
   "cell_type": "code",
   "execution_count": 11,
   "metadata": {},
   "outputs": [
    {
     "name": "stderr",
     "output_type": "stream",
     "text": [
      "C:\\Users\\ommin\\AppData\\Local\\Programs\\Python\\Python311\\Lib\\site-packages\\stable_baselines3\\common\\evaluation.py:67: UserWarning: Evaluation environment is not wrapped with a ``Monitor`` wrapper. This may result in reporting modified episode lengths and rewards, if other wrappers happen to modify these. Consider wrapping environment first with ``Monitor`` wrapper.\n",
      "  warnings.warn(\n"
     ]
    },
    {
     "data": {
      "text/plain": [
       "(489.8, 30.599999999999998)"
      ]
     },
     "execution_count": 11,
     "metadata": {},
     "output_type": "execute_result"
    }
   ],
   "source": [
    "evaluate_policy(model, env, n_eval_episodes=10)"
   ]
  },
  {
   "cell_type": "code",
   "execution_count": 12,
   "metadata": {},
   "outputs": [],
   "source": [
    "env.close()"
   ]
  },
  {
   "cell_type": "markdown",
   "metadata": {},
   "source": [
    "# 5. Test Model"
   ]
  },
  {
   "cell_type": "code",
   "execution_count": 13,
   "metadata": {},
   "outputs": [
    {
     "name": "stderr",
     "output_type": "stream",
     "text": [
      "C:\\Users\\ommin\\AppData\\Local\\Programs\\Python\\Python311\\Lib\\site-packages\\stable_baselines3\\common\\vec_env\\base_vec_env.py:243: UserWarning: You tried to call render() but no `render_mode` was passed to the env constructor.\n",
      "  warnings.warn(\"You tried to call render() but no `render_mode` was passed to the env constructor.\")\n"
     ]
    },
    {
     "name": "stdout",
     "output_type": "stream",
     "text": [
      "info [{'TimeLimit.truncated': True, 'terminal_observation': array([ 1.59569808, -0.02652514,  0.09074406,  0.20963752])}]\n"
     ]
    }
   ],
   "source": [
    "obs = env.reset()\n",
    "while True:\n",
    "    action, _states = model.predict(obs)\n",
    "    obs, rewards, done, info = env.step(action)\n",
    "    env.render()\n",
    "    if done: \n",
    "        print('info', info)\n",
    "        break"
   ]
  },
  {
   "cell_type": "code",
   "execution_count": 14,
   "metadata": {},
   "outputs": [],
   "source": [
    "env.render()\n",
    "env = gym.make(\"CartPole-v1\")"
   ]
  },
  {
   "cell_type": "code",
   "execution_count": 15,
   "metadata": {},
   "outputs": [
    {
     "name": "stdout",
     "output_type": "stream",
     "text": [
      "Episode:1 Score:86.0\n",
      "Episode:2 Score:500.0\n",
      "Episode:3 Score:500.0\n",
      "Episode:4 Score:500.0\n",
      "Episode:5 Score:323.0\n"
     ]
    }
   ],
   "source": [
    "env.close()\n",
    "episodes = 5\n",
    "for episode in range(1, episodes+1):\n",
    "    state = env.reset()\n",
    "    done = False\n",
    "    score = 0 \n",
    "    \n",
    "    while not done:\n",
    "        action,_states = model.predict(state)\n",
    "        state, reward, done, info = env.step(action)\n",
    "        score+=reward\n",
    "        env.render()\n",
    "    print('Episode:{} Score:{}'.format(episode, score))\n",
    "    \n",
    "env.close()"
   ]
  },
  {
   "cell_type": "code",
   "execution_count": null,
   "metadata": {},
   "outputs": [],
   "source": []
  }
 ],
 "metadata": {
  "kernelspec": {
   "display_name": "Python 3 (ipykernel)",
   "language": "python",
   "name": "python3"
  },
  "language_info": {
   "codemirror_mode": {
    "name": "ipython",
    "version": 3
   },
   "file_extension": ".py",
   "mimetype": "text/x-python",
   "name": "python",
   "nbconvert_exporter": "python",
   "pygments_lexer": "ipython3",
   "version": "3.11.2"
  }
 },
 "nbformat": 4,
 "nbformat_minor": 2
}
