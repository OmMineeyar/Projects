{
 "cells": [
  {
   "cell_type": "code",
   "execution_count": 5,
   "id": "f5bf3e6b",
   "metadata": {},
   "outputs": [
    {
     "name": "stdout",
     "output_type": "stream",
     "text": [
      "Requirement already satisfied: stable_baselines3[extra] in c:\\users\\ommin\\appdata\\local\\programs\\python\\python311\\lib\\site-packages (2.3.2)\n",
      "Requirement already satisfied: gymnasium<0.30,>=0.28.1 in c:\\users\\ommin\\appdata\\local\\programs\\python\\python311\\lib\\site-packages (from stable_baselines3[extra]) (0.29.1)\n",
      "Requirement already satisfied: numpy>=1.20 in c:\\users\\ommin\\appdata\\local\\programs\\python\\python311\\lib\\site-packages (from stable_baselines3[extra]) (1.24.2)\n",
      "Requirement already satisfied: torch>=1.13 in c:\\users\\ommin\\appdata\\local\\programs\\python\\python311\\lib\\site-packages (from stable_baselines3[extra]) (2.3.0)\n",
      "Requirement already satisfied: cloudpickle in c:\\users\\ommin\\appdata\\local\\programs\\python\\python311\\lib\\site-packages (from stable_baselines3[extra]) (3.0.0)\n",
      "Requirement already satisfied: pandas in c:\\users\\ommin\\appdata\\local\\programs\\python\\python311\\lib\\site-packages (from stable_baselines3[extra]) (2.0.0)\n",
      "Requirement already satisfied: matplotlib in c:\\users\\ommin\\appdata\\local\\programs\\python\\python311\\lib\\site-packages (from stable_baselines3[extra]) (3.8.2)\n",
      "Requirement already satisfied: opencv-python in c:\\users\\ommin\\appdata\\local\\programs\\python\\python311\\lib\\site-packages (from stable_baselines3[extra]) (4.9.0.80)\n",
      "Requirement already satisfied: pygame in c:\\users\\ommin\\appdata\\local\\programs\\python\\python311\\lib\\site-packages (from stable_baselines3[extra]) (2.5.1)\n",
      "Requirement already satisfied: tensorboard>=2.9.1 in c:\\users\\ommin\\appdata\\local\\programs\\python\\python311\\lib\\site-packages (from stable_baselines3[extra]) (2.16.2)\n",
      "Requirement already satisfied: psutil in c:\\users\\ommin\\appdata\\local\\programs\\python\\python311\\lib\\site-packages (from stable_baselines3[extra]) (5.9.4)\n",
      "Requirement already satisfied: tqdm in c:\\users\\ommin\\appdata\\local\\programs\\python\\python311\\lib\\site-packages (from stable_baselines3[extra]) (4.66.2)\n",
      "Requirement already satisfied: rich in c:\\users\\ommin\\appdata\\local\\programs\\python\\python311\\lib\\site-packages (from stable_baselines3[extra]) (13.7.1)\n",
      "Requirement already satisfied: shimmy~=1.3.0 in c:\\users\\ommin\\appdata\\local\\programs\\python\\python311\\lib\\site-packages (from shimmy[atari]~=1.3.0; extra == \"extra\"->stable_baselines3[extra]) (1.3.0)\n",
      "Requirement already satisfied: pillow in c:\\users\\ommin\\appdata\\local\\programs\\python\\python311\\lib\\site-packages (from stable_baselines3[extra]) (10.1.0)\n",
      "Requirement already satisfied: autorom~=0.6.1 in c:\\users\\ommin\\appdata\\local\\programs\\python\\python311\\lib\\site-packages (from autorom[accept-rom-license]~=0.6.1; extra == \"extra\"->stable_baselines3[extra]) (0.6.1)\n",
      "Requirement already satisfied: click in c:\\users\\ommin\\appdata\\local\\programs\\python\\python311\\lib\\site-packages (from autorom~=0.6.1->autorom[accept-rom-license]~=0.6.1; extra == \"extra\"->stable_baselines3[extra]) (8.1.7)\n",
      "Requirement already satisfied: requests in c:\\users\\ommin\\appdata\\local\\programs\\python\\python311\\lib\\site-packages (from autorom~=0.6.1->autorom[accept-rom-license]~=0.6.1; extra == \"extra\"->stable_baselines3[extra]) (2.31.0)\n",
      "Requirement already satisfied: AutoROM.accept-rom-license in c:\\users\\ommin\\appdata\\local\\programs\\python\\python311\\lib\\site-packages (from autorom[accept-rom-license]~=0.6.1; extra == \"extra\"->stable_baselines3[extra]) (0.6.1)\n",
      "Requirement already satisfied: typing-extensions>=4.3.0 in c:\\users\\ommin\\appdata\\local\\programs\\python\\python311\\lib\\site-packages (from gymnasium<0.30,>=0.28.1->stable_baselines3[extra]) (4.10.0)\n",
      "Requirement already satisfied: farama-notifications>=0.0.1 in c:\\users\\ommin\\appdata\\local\\programs\\python\\python311\\lib\\site-packages (from gymnasium<0.30,>=0.28.1->stable_baselines3[extra]) (0.0.4)\n",
      "Requirement already satisfied: ale-py~=0.8.1 in c:\\users\\ommin\\appdata\\local\\programs\\python\\python311\\lib\\site-packages (from shimmy[atari]~=1.3.0; extra == \"extra\"->stable_baselines3[extra]) (0.8.1)\n",
      "Requirement already satisfied: absl-py>=0.4 in c:\\users\\ommin\\appdata\\local\\programs\\python\\python311\\lib\\site-packages (from tensorboard>=2.9.1->stable_baselines3[extra]) (2.0.0)\n",
      "Requirement already satisfied: grpcio>=1.48.2 in c:\\users\\ommin\\appdata\\local\\programs\\python\\python311\\lib\\site-packages (from tensorboard>=2.9.1->stable_baselines3[extra]) (1.62.1)\n",
      "Requirement already satisfied: markdown>=2.6.8 in c:\\users\\ommin\\appdata\\local\\programs\\python\\python311\\lib\\site-packages (from tensorboard>=2.9.1->stable_baselines3[extra]) (3.6)\n",
      "Requirement already satisfied: protobuf!=4.24.0,>=3.19.6 in c:\\users\\ommin\\appdata\\local\\programs\\python\\python311\\lib\\site-packages (from tensorboard>=2.9.1->stable_baselines3[extra]) (4.25.3)\n",
      "Requirement already satisfied: setuptools>=41.0.0 in c:\\users\\ommin\\appdata\\local\\programs\\python\\python311\\lib\\site-packages (from tensorboard>=2.9.1->stable_baselines3[extra]) (65.5.0)\n",
      "Requirement already satisfied: six>1.9 in c:\\users\\ommin\\appdata\\local\\programs\\python\\python311\\lib\\site-packages (from tensorboard>=2.9.1->stable_baselines3[extra]) (1.16.0)\n",
      "Requirement already satisfied: tensorboard-data-server<0.8.0,>=0.7.0 in c:\\users\\ommin\\appdata\\local\\programs\\python\\python311\\lib\\site-packages (from tensorboard>=2.9.1->stable_baselines3[extra]) (0.7.2)\n",
      "Requirement already satisfied: werkzeug>=1.0.1 in c:\\users\\ommin\\appdata\\local\\programs\\python\\python311\\lib\\site-packages (from tensorboard>=2.9.1->stable_baselines3[extra]) (3.0.1)\n",
      "Requirement already satisfied: filelock in c:\\users\\ommin\\appdata\\local\\programs\\python\\python311\\lib\\site-packages (from torch>=1.13->stable_baselines3[extra]) (3.14.0)\n",
      "Requirement already satisfied: sympy in c:\\users\\ommin\\appdata\\local\\programs\\python\\python311\\lib\\site-packages (from torch>=1.13->stable_baselines3[extra]) (1.12.1)\n",
      "Requirement already satisfied: networkx in c:\\users\\ommin\\appdata\\local\\programs\\python\\python311\\lib\\site-packages (from torch>=1.13->stable_baselines3[extra]) (3.3)\n",
      "Requirement already satisfied: jinja2 in c:\\users\\ommin\\appdata\\local\\programs\\python\\python311\\lib\\site-packages (from torch>=1.13->stable_baselines3[extra]) (3.1.2)\n",
      "Requirement already satisfied: fsspec in c:\\users\\ommin\\appdata\\local\\programs\\python\\python311\\lib\\site-packages (from torch>=1.13->stable_baselines3[extra]) (2024.5.0)\n",
      "Requirement already satisfied: mkl<=2021.4.0,>=2021.1.1 in c:\\users\\ommin\\appdata\\local\\programs\\python\\python311\\lib\\site-packages (from torch>=1.13->stable_baselines3[extra]) (2021.4.0)\n",
      "Requirement already satisfied: contourpy>=1.0.1 in c:\\users\\ommin\\appdata\\local\\programs\\python\\python311\\lib\\site-packages (from matplotlib->stable_baselines3[extra]) (1.2.0)\n",
      "Requirement already satisfied: cycler>=0.10 in c:\\users\\ommin\\appdata\\local\\programs\\python\\python311\\lib\\site-packages (from matplotlib->stable_baselines3[extra]) (0.12.1)\n",
      "Requirement already satisfied: fonttools>=4.22.0 in c:\\users\\ommin\\appdata\\local\\programs\\python\\python311\\lib\\site-packages (from matplotlib->stable_baselines3[extra]) (4.47.0)\n",
      "Requirement already satisfied: kiwisolver>=1.3.1 in c:\\users\\ommin\\appdata\\local\\programs\\python\\python311\\lib\\site-packages (from matplotlib->stable_baselines3[extra]) (1.4.5)\n",
      "Requirement already satisfied: packaging>=20.0 in c:\\users\\ommin\\appdata\\local\\programs\\python\\python311\\lib\\site-packages (from matplotlib->stable_baselines3[extra]) (23.0)\n",
      "Requirement already satisfied: pyparsing>=2.3.1 in c:\\users\\ommin\\appdata\\local\\programs\\python\\python311\\lib\\site-packages (from matplotlib->stable_baselines3[extra]) (3.1.1)\n",
      "Requirement already satisfied: python-dateutil>=2.7 in c:\\users\\ommin\\appdata\\local\\programs\\python\\python311\\lib\\site-packages (from matplotlib->stable_baselines3[extra]) (2.8.2)\n",
      "Requirement already satisfied: pytz>=2020.1 in c:\\users\\ommin\\appdata\\local\\programs\\python\\python311\\lib\\site-packages (from pandas->stable_baselines3[extra]) (2023.3)\n",
      "Requirement already satisfied: tzdata>=2022.1 in c:\\users\\ommin\\appdata\\local\\programs\\python\\python311\\lib\\site-packages (from pandas->stable_baselines3[extra]) (2023.3)\n",
      "Requirement already satisfied: markdown-it-py>=2.2.0 in c:\\users\\ommin\\appdata\\local\\programs\\python\\python311\\lib\\site-packages (from rich->stable_baselines3[extra]) (3.0.0)\n",
      "Requirement already satisfied: pygments<3.0.0,>=2.13.0 in c:\\users\\ommin\\appdata\\local\\programs\\python\\python311\\lib\\site-packages (from rich->stable_baselines3[extra]) (2.14.0)\n",
      "Requirement already satisfied: colorama in c:\\users\\ommin\\appdata\\local\\programs\\python\\python311\\lib\\site-packages (from tqdm->stable_baselines3[extra]) (0.4.6)\n",
      "Requirement already satisfied: importlib-resources in c:\\users\\ommin\\appdata\\local\\programs\\python\\python311\\lib\\site-packages (from ale-py~=0.8.1->shimmy[atari]~=1.3.0; extra == \"extra\"->stable_baselines3[extra]) (6.4.0)\n",
      "Requirement already satisfied: mdurl~=0.1 in c:\\users\\ommin\\appdata\\local\\programs\\python\\python311\\lib\\site-packages (from markdown-it-py>=2.2.0->rich->stable_baselines3[extra]) (0.1.2)\n",
      "Requirement already satisfied: intel-openmp==2021.* in c:\\users\\ommin\\appdata\\local\\programs\\python\\python311\\lib\\site-packages (from mkl<=2021.4.0,>=2021.1.1->torch>=1.13->stable_baselines3[extra]) (2021.4.0)\n",
      "Requirement already satisfied: tbb==2021.* in c:\\users\\ommin\\appdata\\local\\programs\\python\\python311\\lib\\site-packages (from mkl<=2021.4.0,>=2021.1.1->torch>=1.13->stable_baselines3[extra]) (2021.12.0)\n",
      "Requirement already satisfied: MarkupSafe>=2.1.1 in c:\\users\\ommin\\appdata\\local\\programs\\python\\python311\\lib\\site-packages (from werkzeug>=1.0.1->tensorboard>=2.9.1->stable_baselines3[extra]) (2.1.2)\n",
      "Requirement already satisfied: charset-normalizer<4,>=2 in c:\\users\\ommin\\appdata\\local\\programs\\python\\python311\\lib\\site-packages (from requests->autorom~=0.6.1->autorom[accept-rom-license]~=0.6.1; extra == \"extra\"->stable_baselines3[extra]) (3.3.2)\n",
      "Requirement already satisfied: idna<4,>=2.5 in c:\\users\\ommin\\appdata\\local\\programs\\python\\python311\\lib\\site-packages (from requests->autorom~=0.6.1->autorom[accept-rom-license]~=0.6.1; extra == \"extra\"->stable_baselines3[extra]) (3.4)\n",
      "Requirement already satisfied: urllib3<3,>=1.21.1 in c:\\users\\ommin\\appdata\\local\\programs\\python\\python311\\lib\\site-packages (from requests->autorom~=0.6.1->autorom[accept-rom-license]~=0.6.1; extra == \"extra\"->stable_baselines3[extra]) (2.2.1)\n",
      "Requirement already satisfied: certifi>=2017.4.17 in c:\\users\\ommin\\appdata\\local\\programs\\python\\python311\\lib\\site-packages (from requests->autorom~=0.6.1->autorom[accept-rom-license]~=0.6.1; extra == \"extra\"->stable_baselines3[extra]) (2024.2.2)\n",
      "Requirement already satisfied: mpmath<1.4.0,>=1.1.0 in c:\\users\\ommin\\appdata\\local\\programs\\python\\python311\\lib\\site-packages (from sympy->torch>=1.13->stable_baselines3[extra]) (1.3.0)\n"
     ]
    }
   ],
   "source": [
    "!pip install stable_baselines3[extra]"
   ]
  },
  {
   "cell_type": "code",
   "execution_count": 10,
   "id": "07ab22ec",
   "metadata": {},
   "outputs": [
    {
     "name": "stdout",
     "output_type": "stream",
     "text": [
      "Requirement already satisfied: gymnasium in c:\\users\\ommin\\appdata\\local\\programs\\python\\python311\\lib\\site-packages (0.29.1)\n",
      "Requirement already satisfied: numpy>=1.21.0 in c:\\users\\ommin\\appdata\\local\\programs\\python\\python311\\lib\\site-packages (from gymnasium) (1.24.2)\n",
      "Requirement already satisfied: cloudpickle>=1.2.0 in c:\\users\\ommin\\appdata\\local\\programs\\python\\python311\\lib\\site-packages (from gymnasium) (3.0.0)\n",
      "Requirement already satisfied: typing-extensions>=4.3.0 in c:\\users\\ommin\\appdata\\local\\programs\\python\\python311\\lib\\site-packages (from gymnasium) (4.10.0)\n",
      "Requirement already satisfied: farama-notifications>=0.0.1 in c:\\users\\ommin\\appdata\\local\\programs\\python\\python311\\lib\\site-packages (from gymnasium) (0.0.4)\n"
     ]
    }
   ],
   "source": [
    "!pip install gymnasium"
   ]
  },
  {
   "cell_type": "code",
   "execution_count": 11,
   "id": "01e20225",
   "metadata": {},
   "outputs": [],
   "source": [
    "import os\n",
    "import gymnasium as gym \n",
    "from stable_baselines3 import PPO\n",
    "from stable_baselines3.common.vec_env import DummyVecEnv\n",
    "from stable_baselines3.common.evaluation import evaluate_policy"
   ]
  },
  {
   "cell_type": "code",
   "execution_count": 12,
   "id": "babb7a2b",
   "metadata": {},
   "outputs": [
    {
     "name": "stderr",
     "output_type": "stream",
     "text": [
      "C:\\Users\\ommin\\AppData\\Local\\Programs\\Python\\Python311\\Lib\\site-packages\\gymnasium\\envs\\registration.py:513: DeprecationWarning: \u001b[33mWARN: The environment CartPole-v0 is out of date. You should consider upgrading to version `v1`.\u001b[0m\n",
      "  logger.deprecation(\n"
     ]
    }
   ],
   "source": [
    "environment_name='CartPole-v0'\n",
    "env=gym.make(environment_name)"
   ]
  },
  {
   "cell_type": "code",
   "execution_count": null,
   "id": "873c03dc",
   "metadata": {},
   "outputs": [],
   "source": []
  }
 ],
 "metadata": {
  "kernelspec": {
   "display_name": "Python 3 (ipykernel)",
   "language": "python",
   "name": "python3"
  },
  "language_info": {
   "codemirror_mode": {
    "name": "ipython",
    "version": 3
   },
   "file_extension": ".py",
   "mimetype": "text/x-python",
   "name": "python",
   "nbconvert_exporter": "python",
   "pygments_lexer": "ipython3",
   "version": "3.11.2"
  }
 },
 "nbformat": 4,
 "nbformat_minor": 5
}
